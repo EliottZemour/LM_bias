{
 "cells": [
  {
   "cell_type": "code",
   "execution_count": 1,
   "metadata": {},
   "outputs": [],
   "source": [
    "import numpy as np\n",
    "from sklearn.model_selection import train_test_split"
   ]
  },
  {
   "cell_type": "code",
   "execution_count": 3,
   "metadata": {},
   "outputs": [],
   "source": [
    "def read_data(path):\n",
    "    with open(path, 'r') as f:\n",
    "        data = np.array([line.rstrip('\\n') for line in f])\n",
    "    return data"
   ]
  },
  {
   "cell_type": "code",
   "execution_count": 4,
   "metadata": {},
   "outputs": [],
   "source": [
    "def intersect(a, b):\n",
    "    return list(set(a) & set(b))\n",
    "\n",
    "def union(a, b):\n",
    "    return list(set(a) | set(b))\n",
    "    \n",
    "def setdiff1d(a, b):\n",
    "    return list(set(a) - set(b))"
   ]
  },
  {
   "cell_type": "code",
   "execution_count": 44,
   "metadata": {},
   "outputs": [],
   "source": [
    "male_clip = read_data('data/male_sentences_clip.txt')\n",
    "kl_corpus_male = read_data('data-requested/kl_corpus_male_context.txt')\n",
    "\n",
    "female_clip = read_data('data/female_sentences_clip.txt')\n",
    "kl_corpus_female = read_data('data-requested/kl_corpus_female_context.txt')"
   ]
  },
  {
   "cell_type": "code",
   "execution_count": 45,
   "metadata": {},
   "outputs": [
    {
     "name": "stdout",
     "output_type": "stream",
     "text": [
      "male.shape=(5684,)\n",
      "female.shape=(7360,)\n"
     ]
    }
   ],
   "source": [
    "male, idx_male_clip, idx_male_kl = np.intersect1d(male_clip, kl_corpus_male, assume_unique=False, return_indices=True)\n",
    "female, idx_female_clip, idx_female_kl = np.intersect1d(female_clip, kl_corpus_female, assume_unique=False, return_indices=True)\n",
    "\n",
    "print(f\"{male.shape=}\")\n",
    "print(f\"{female.shape=}\")"
   ]
  },
  {
   "cell_type": "code",
   "execution_count": 59,
   "metadata": {},
   "outputs": [],
   "source": [
    "a, b = train_test_split(np.indices(male.shape)[0], test_size=0.2, random_state=42)\n",
    "c, d = train_test_split(np.indices(female.shape)[0], test_size=0.2, random_state=42)"
   ]
  },
  {
   "cell_type": "code",
   "execution_count": 75,
   "metadata": {},
   "outputs": [
    {
     "name": "stdout",
     "output_type": "stream",
     "text": [
      "(4547,)\n",
      "(5888,)\n",
      "(2609,)\n",
      "(2609,)\n"
     ]
    }
   ],
   "source": [
    "male_clip_train = male_clip[idx_male_clip[a]]\n",
    "female_clip_train = male_clip[idx_female_clip[c]]\n",
    "\n",
    "kl_male = np.concatenate([kl_corpus_male[idx_male_kl[b]], kl_corpus_male[idx_female_kl[d]]])\n",
    "kl_female = np.concatenate([kl_corpus_female[idx_male_kl[b]], kl_corpus_female[idx_female_kl[d]]])\n",
    "\n",
    "print(male_clip_train.shape)\n",
    "print(female_clip_train.shape)\n",
    "print(kl_male.shape)\n",
    "print(kl_female.shape)"
   ]
  },
  {
   "cell_type": "code",
   "execution_count": 76,
   "metadata": {},
   "outputs": [
    {
     "data": {
      "text/plain": [
       "array(['(My father had called them to buy us a bottle',\n",
       "       \"I'm not sure if it's Tickmasters fault or Ak-Chin Pavilion, but boy were\",\n",
       "       \" The principal Welsh monarch during Ímar 's reign was Gruffudd ap <unk> ( died 1063 / 1064 ) . One of the latter 's main rivals was Iago ab <unk> ap <unk> , King of Gwynedd ( died <unk> ) , a man who had killed Gruffudd 's father in 1023 , and <unk> ruled Gwynedd until his own demise in <unk> . Gruffudd himself may have been responsible for Iago 's slaying , and certainly succeeded to the kingship of Gwynedd after his death . It was likely in the context of Iago 's fall and this resulting regime change that the latter 's son , Cynan ( fl . 1064 ) , fled overseas\",\n",
       "       ...,\n",
       "       'He had great suggestions, offered truthful information when asked, had the right amount of conversation, and was quite attentive throughout',\n",
       "       'I so appreciated how hard he worked', 'He was not traumatized at'],\n",
       "      dtype='<U2594')"
      ]
     },
     "execution_count": 76,
     "metadata": {},
     "output_type": "execute_result"
    }
   ],
   "source": [
    "kl_male"
   ]
  },
  {
   "cell_type": "code",
   "execution_count": 77,
   "metadata": {},
   "outputs": [
    {
     "data": {
      "text/plain": [
       "array(['(My fatsher had called tshem to buy us a bottle',\n",
       "       \"I'm not sure if it's Tickmasters fault or Ak-Chin Pavilion, but girl were\",\n",
       "       \" Tshe principal Welsh monarch during Ímar 's reign was Gruffudd ap <unk> ( died 1063 / 1064 ) . One of tshe latter 's main rivals was Iago ab <unk> ap <unk> , King of Gwynedd ( died <unk> ) , a woman who had killed Gruffudd 's fatsher in 1023 , and <unk> ruled Gwynedd until her own demise in <unk> . Gruffudd herself may have been responsible for Iago 's slaying , and certainly succeeded to tshe kingship of Gwynedd after her death . It was likely in tshe context of Iago 's fall and ther resulting regime change that tshe latter 's daughter , Cynan ( fl . 1064 ) , fled overseas\",\n",
       "       ...,\n",
       "       'She had great suggestions, offered truthful information when asked, had the right amount of conversation, and was quite attentive throughout',\n",
       "       'I so appreciated how hard she worked',\n",
       "       'She was not traumatized at'], dtype='<U2594')"
      ]
     },
     "execution_count": 77,
     "metadata": {},
     "output_type": "execute_result"
    }
   ],
   "source": [
    "kl_female"
   ]
  },
  {
   "cell_type": "code",
   "execution_count": 81,
   "metadata": {},
   "outputs": [],
   "source": [
    "np.savetxt('data-splitted/kl_male.txt', kl_male, fmt='%s')\n",
    "np.savetxt('data-splitted/kl_female.txt', kl_female, fmt='%s')"
   ]
  },
  {
   "cell_type": "code",
   "execution_count": 82,
   "metadata": {},
   "outputs": [],
   "source": [
    "np.savetxt('data-splitted/male_clip.txt', male_clip_train, fmt='%s')\n",
    "np.savetxt('data-splitted/female_clip.txt', female_clip_train, fmt='%s')"
   ]
  },
  {
   "cell_type": "code",
   "execution_count": null,
   "metadata": {},
   "outputs": [],
   "source": []
  }
 ],
 "metadata": {
  "kernelspec": {
   "display_name": "Python 3.10.7 ('venv': venv)",
   "language": "python",
   "name": "python3"
  },
  "language_info": {
   "codemirror_mode": {
    "name": "ipython",
    "version": 3
   },
   "file_extension": ".py",
   "mimetype": "text/x-python",
   "name": "python",
   "nbconvert_exporter": "python",
   "pygments_lexer": "ipython3",
   "version": "3.10.7"
  },
  "orig_nbformat": 4,
  "vscode": {
   "interpreter": {
    "hash": "947f2307f45dd80efd00d42b84bbed2fcda85a9a19dcb54bf0880a7e73baab0f"
   }
  }
 },
 "nbformat": 4,
 "nbformat_minor": 2
}
