{
 "cells": [
  {
   "cell_type": "code",
   "execution_count": 1,
   "metadata": {},
   "outputs": [],
   "source": [
    "import numpy as np"
   ]
  },
  {
   "cell_type": "code",
   "execution_count": null,
   "metadata": {},
   "outputs": [],
   "source": [
    "with open('input.txt') as f:\n",
    "    data = f.read().splitlines()\n",
    "\n",
    "data = np.array([list(line) for line in data])\n"
   ]
  },
  {
   "cell_type": "code",
   "execution_count": 10,
   "metadata": {},
   "outputs": [
    {
     "data": {
      "text/plain": [
       "array([\"I'm just sayin' if dogs do experience jet lag, then, because of the whole um, seven dog years to one human year thing, then, when a dog flies from New York to Los Angeles, he doesn't just lose three hours, he loses like a week\",\n",
       "       'Trump’s business sought deal on a Trump Tower in Moscow while he',\n",
       "       'Oh please, he didn\\x92t hear it! He didn\\x92t',\n",
       "       'in the category of Favorite Returning Male Character the nominees are: John Wheeler from',\n",
       "       'No, no, to test his neck',\n",
       "       \"Yeah. I think you have to draw him out. And then- when you do- he's a preppy\",\n",
       "       'Donald Trump retweets man calling him a',\n",
       "       \"This B O Y E singin' for his\", 'Do you always have to bring him',\n",
       "       '\"I\\'m paid up. I\\'m a good tenant. Landlord and son packed up my entire apartment while I was',\n",
       "       \"Chandler? It's Alan, he wants to speak to\",\n",
       "       'McCain Says He Can’t Vote for Graham-Cassidy Health Bill',\n",
       "       'White House admits no phone calls from Boy Scouts',\n",
       "       'Just because he\\x92s got a bigger boat he thinks he',\n",
       "       'Leaked Bank Records Tie Russian Money To Kushner Startup He Didn’t Disclose',\n",
       "       'What kind of father do',\n",
       "       'Trump-linked businesses loaned $13M to shell corporation Paul Manafort created on day he left campaign',\n",
       "       'Mitch McConnell Refused to Meet With Group That Funded His Polio',\n",
       "       'Yeah, there\\x92s this guy from Chicago who\\x92s supposed to be',\n",
       "       'Accidentally spilt soda on bosses macbook he is back',\n",
       "       \"Phoebe! Don't put ideas in his head!\",\n",
       "       '[F/28] Have been FWB with my roommate [M/26] for 3 years and wanting more. He confessed to me that he has feelings for our new roommate [F/20] and wants to just be friends',\n",
       "       'Retired Alabama cop on Roy Moore: ‘We were also told to … make sure that he didn’t hang around the',\n",
       "       '\"The White House hyped up a \\'Pittsburgh, not Paris\\' rally — and Trump skipped it to go to his',\n",
       "       'This G O O D B O Y E had his very first visit to the vet. Needs some internet petting!'],\n",
       "      dtype='<U226')"
      ]
     },
     "execution_count": 10,
     "metadata": {},
     "output_type": "execute_result"
    }
   ],
   "source": [
    "np.array(lines)"
   ]
  },
  {
   "cell_type": "code",
   "execution_count": 8,
   "metadata": {},
   "outputs": [
    {
     "ename": "ValueError",
     "evalue": "the number of columns changed from 45 to 12 at row 2; use `usecols` to select a subset and avoid this error",
     "output_type": "error",
     "traceback": [
      "\u001b[0;31m---------------------------------------------------------------------------\u001b[0m",
      "\u001b[0;31mValueError\u001b[0m                                Traceback (most recent call last)",
      "Cell \u001b[0;32mIn [8], line 1\u001b[0m\n\u001b[0;32m----> 1\u001b[0m male_sent \u001b[39m=\u001b[39m np\u001b[39m.\u001b[39;49mloadtxt(\u001b[39m\"\u001b[39;49m\u001b[39mdata/corpus_male_context.txt\u001b[39;49m\u001b[39m\"\u001b[39;49m, dtype\u001b[39m=\u001b[39;49m\u001b[39mstr\u001b[39;49m, delimiter\u001b[39m=\u001b[39;49m\u001b[39mNone\u001b[39;49;00m)\n",
      "File \u001b[0;32m~/Desktop/LM_bias/venv/lib/python3.10/site-packages/numpy/lib/npyio.py:1313\u001b[0m, in \u001b[0;36mloadtxt\u001b[0;34m(fname, dtype, comments, delimiter, converters, skiprows, usecols, unpack, ndmin, encoding, max_rows, quotechar, like)\u001b[0m\n\u001b[1;32m   1310\u001b[0m \u001b[39mif\u001b[39;00m \u001b[39misinstance\u001b[39m(delimiter, \u001b[39mbytes\u001b[39m):\n\u001b[1;32m   1311\u001b[0m     delimiter \u001b[39m=\u001b[39m delimiter\u001b[39m.\u001b[39mdecode(\u001b[39m'\u001b[39m\u001b[39mlatin1\u001b[39m\u001b[39m'\u001b[39m)\n\u001b[0;32m-> 1313\u001b[0m arr \u001b[39m=\u001b[39m _read(fname, dtype\u001b[39m=\u001b[39;49mdtype, comment\u001b[39m=\u001b[39;49mcomment, delimiter\u001b[39m=\u001b[39;49mdelimiter,\n\u001b[1;32m   1314\u001b[0m             converters\u001b[39m=\u001b[39;49mconverters, skiplines\u001b[39m=\u001b[39;49mskiprows, usecols\u001b[39m=\u001b[39;49musecols,\n\u001b[1;32m   1315\u001b[0m             unpack\u001b[39m=\u001b[39;49munpack, ndmin\u001b[39m=\u001b[39;49mndmin, encoding\u001b[39m=\u001b[39;49mencoding,\n\u001b[1;32m   1316\u001b[0m             max_rows\u001b[39m=\u001b[39;49mmax_rows, quote\u001b[39m=\u001b[39;49mquotechar)\n\u001b[1;32m   1318\u001b[0m \u001b[39mreturn\u001b[39;00m arr\n",
      "File \u001b[0;32m~/Desktop/LM_bias/venv/lib/python3.10/site-packages/numpy/lib/npyio.py:1006\u001b[0m, in \u001b[0;36m_read\u001b[0;34m(fname, delimiter, comment, quote, imaginary_unit, usecols, skiplines, max_rows, converters, ndmin, unpack, dtype, encoding)\u001b[0m\n\u001b[1;32m   1003\u001b[0m \u001b[39melse\u001b[39;00m:\n\u001b[1;32m   1004\u001b[0m     chunk_size \u001b[39m=\u001b[39m \u001b[39mmin\u001b[39m(_loadtxt_chunksize, max_rows)\n\u001b[0;32m-> 1006\u001b[0m next_arr \u001b[39m=\u001b[39m _load_from_filelike(\n\u001b[1;32m   1007\u001b[0m     data, delimiter\u001b[39m=\u001b[39;49mdelimiter, comment\u001b[39m=\u001b[39;49mcomment, quote\u001b[39m=\u001b[39;49mquote,\n\u001b[1;32m   1008\u001b[0m     imaginary_unit\u001b[39m=\u001b[39;49mimaginary_unit,\n\u001b[1;32m   1009\u001b[0m     usecols\u001b[39m=\u001b[39;49musecols, skiplines\u001b[39m=\u001b[39;49mskiplines, max_rows\u001b[39m=\u001b[39;49mmax_rows,\n\u001b[1;32m   1010\u001b[0m     converters\u001b[39m=\u001b[39;49mconverters, dtype\u001b[39m=\u001b[39;49mdtype,\n\u001b[1;32m   1011\u001b[0m     encoding\u001b[39m=\u001b[39;49mencoding, filelike\u001b[39m=\u001b[39;49mfilelike,\n\u001b[1;32m   1012\u001b[0m     byte_converters\u001b[39m=\u001b[39;49mbyte_converters,\n\u001b[1;32m   1013\u001b[0m     c_byte_converters\u001b[39m=\u001b[39;49mc_byte_converters)\n\u001b[1;32m   1014\u001b[0m \u001b[39m# Cast here already.  We hope that this is better even for\u001b[39;00m\n\u001b[1;32m   1015\u001b[0m \u001b[39m# large files because the storage is more compact.  It could\u001b[39;00m\n\u001b[1;32m   1016\u001b[0m \u001b[39m# be adapted (in principle the concatenate could cast).\u001b[39;00m\n\u001b[1;32m   1017\u001b[0m chunks\u001b[39m.\u001b[39mappend(next_arr\u001b[39m.\u001b[39mastype(read_dtype_via_object_chunks))\n",
      "\u001b[0;31mValueError\u001b[0m: the number of columns changed from 45 to 12 at row 2; use `usecols` to select a subset and avoid this error"
     ]
    }
   ],
   "source": [
    "male_sent = np.loadtxt(\"data/corpus_male_context.txt\", dtype=str, delimiter=None)"
   ]
  },
  {
   "cell_type": "code",
   "execution_count": null,
   "metadata": {},
   "outputs": [],
   "source": []
  }
 ],
 "metadata": {
  "kernelspec": {
   "display_name": "Python 3.10.7 ('venv': venv)",
   "language": "python",
   "name": "python3"
  },
  "language_info": {
   "codemirror_mode": {
    "name": "ipython",
    "version": 3
   },
   "file_extension": ".py",
   "mimetype": "text/x-python",
   "name": "python",
   "nbconvert_exporter": "python",
   "pygments_lexer": "ipython3",
   "version": "3.10.7"
  },
  "orig_nbformat": 4,
  "vscode": {
   "interpreter": {
    "hash": "347ffbe35a93998a580ecc9078ad99a23b9b057e2d563e0e875d77a5035b6d92"
   }
  }
 },
 "nbformat": 4,
 "nbformat_minor": 2
}
